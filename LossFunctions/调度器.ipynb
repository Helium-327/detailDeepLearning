{
 "cells": [
  {
   "cell_type": "markdown",
   "metadata": {},
   "source": [
    "# 神经网络训练的调度器（schedular）"
   ]
  },
  {
   "cell_type": "markdown",
   "metadata": {},
   "source": [
    "## 1. Constant Learning Rate\n",
    "\n",
    "**原理：**\n",
    "\n",
    "Constant Learning Rate 是最简单的学习率调度器，它保持学习率在整个训练过程中保持不变。\n",
    "\n",
    "**优缺点：**\n",
    "\n",
    "- 优点：简单易实现，不需要额外的参数调整。\n",
    "- 缺点：可能导致模型过拟合或欠拟合。\n",
    "\n",
    "**参数使用：**\n",
    "\n",
    "* 学习率 (`lr`): 推荐值为 0.01-0.1\n",
    "\n",
    "**使用案例：**\n",
    "\n",
    "Constant Learning Rate 适用于简单的模型和小规模的数据集。\n",
    "\n"
   ]
  },
  {
   "cell_type": "markdown",
   "metadata": {},
   "source": [
    "## 2. Step Learning Rate\n",
    "\n",
    "**原理：**\n",
    "\n",
    "Step Learning Rate 是一种简单的学习率调度器，它在每个 epoch 后将学习率乘以一个固定的系数。\n",
    "\n",
    "**优缺点：**\n",
    "\n",
    "- 优点：可以帮助模型避免过拟合。\n",
    "- 缺点：可能导致模型欠拟合。\n",
    "\n",
    "**参数使用：**\n",
    "\n",
    "* 学习率 (`lr`): 推荐值为 0.01-0.1\n",
    "* 系数 (`gamma`): 推荐值为 0.9-0.99\n",
    "* 步数 (`step_size`): 推荐值为 10-50\n",
    "\n",
    "**使用案例：**\n",
    "\n",
    "Step Learning Rate 适用于需要避免过拟合的模型和数据集。\n",
    "\n"
   ]
  },
  {
   "cell_type": "markdown",
   "metadata": {},
   "source": [
    "### 3. Exponential Learning Rate\n",
    "\n",
    "**原理：**\n",
    "\n",
    "Exponential Learning Rate 是一种学习率调度器，它在每个 epoch 后将学习率乘以一个指数函数。\n",
    "\n",
    "**优缺点：**\n",
    "\n",
    "- 优点：可以帮助模型快速收敛。\n",
    "- 缺点：可能导致模型过拟合。\n",
    "\n",
    "**参数使用：**\n",
    "\n",
    "* 学习率 (`lr`): 推荐值为 0.01-0.1\n",
    "* 基数 (`base`): 推荐值为 0.9-0.99\n",
    "\n",
    "**使用案例：**\n",
    "\n",
    "Exponential Learning Rate 适用于需要快速收敛的模型和数据集。\n",
    "\n"
   ]
  },
  {
   "cell_type": "markdown",
   "metadata": {},
   "source": [
    "## 4. Plateau Learning Rate\n",
    "\n",
    "**原理：**\n",
    "\n",
    "Plateau Learning Rate 是一种学习率调度器，它在模型的性能达到一个平台后将学习率降低。\n",
    "\n",
    "**优缺点：**\n",
    "\n",
    "- 优点：可以帮助模型避免过拟合。\n",
    "- 缺点：可能导致模型欠拟合。\n",
    "\n",
    "**参数使用：**\n",
    "\n",
    "* 学习率 (`lr`): 推荐值为 0.01-0.1\n",
    "* 阈值 (`threshold`): 推荐值为 0.001-0.01\n",
    "* 耐心 (`patience`): 推荐值为 5-10\n",
    "\n",
    "**使用案例：**\n",
    "\n",
    "Plateau Learning Rate 适用于需要避免过拟合的模型和数据集。\n",
    "\n"
   ]
  },
  {
   "cell_type": "markdown",
   "metadata": {},
   "source": [
    "## 5. Cosine Annealing Learning Rate\n",
    "\n",
    "**原理：**\n",
    "\n",
    "Cosine Annealing Learning Rate 是一种学习率调度器，它使用余弦函数来调整学习率。\n",
    "\n",
    "**优缺点：**\n",
    "\n",
    "- 优点：可以帮助模型快速收敛。\n",
    "- 缺点：可能导致模型过拟合。\n",
    "\n",
    "**参数使用：**\n",
    "\n",
    "* 学习率 (`lr`): 推荐值为 0.01-0.1\n",
    "* 周期 (`T_max`): 推荐值为 10-50\n",
    "\n",
    "**使用案例：**\n",
    "\n",
    "Cosine Annealing Learning Rate 适用于需要快速收敛的模型和数据集。\n",
    "\n"
   ]
  },
  {
   "cell_type": "markdown",
   "metadata": {},
   "source": [
    "## 6. ReduceLROnPlateau\n",
    "\n",
    "**原理：**\n",
    "\n",
    "ReduceLROnPlateau 是一种学习率调度器，它在模型的性能达到一个平台后将学习率降低。\n",
    "\n",
    "**优缺点：**\n",
    "\n",
    "- 优点：可以帮助模型避免过拟合。\n",
    "- 缺点：可能导致模型欠拟合。\n",
    "\n",
    "**参数使用：**\n",
    "\n",
    "* 学习率 (`lr`): 推荐值为 0.01-0.1\n",
    "* 阈值 (`threshold`): 推荐值为 0.001-0.01\n",
    "* 耐心 (`patience`): 推荐值为 5-10\n",
    "\n",
    "**使用案例：**\n",
    "\n",
    "ReduceLROnPlateau 适用于需要避免过拟合的模型和数据集。\n",
    "\n"
   ]
  },
  {
   "cell_type": "markdown",
   "metadata": {},
   "source": [
    "## 7. Cyclic Learning Rate\n",
    "\n",
    "**原理：**\n",
    "\n",
    "Cyclic Learning Rate 是一种学习率调度器，它使用周期函数来调整学习率。\n",
    "\n",
    "**优缺点：**\n",
    "\n",
    "- 优点：可以帮助模型快速收敛。\n",
    "- 缺点：可能导致模型过拟合。\n",
    "\n",
    "**参数使用：**\n",
    "\n",
    "* 学习率 (`lr`): 推荐值为 0.01-0.1\n",
    "* 周期 (`step_size`): 推荐值为 10-50\n",
    "\n",
    "**使用案例：**\n",
    "\n",
    "Cyclic Learning Rate 适用于需要快速收敛的模型和数据集。\n",
    "\n"
   ]
  },
  {
   "cell_type": "markdown",
   "metadata": {},
   "source": [
    "## 8. OneCycle Learning Rate\n",
    "\n",
    "**原理：**\n",
    "\n",
    "OneCycle Learning Rate 是一种学习率调度器，它使用一个周期函数来调整学习率。\n",
    "\n",
    "**优缺点：**\n",
    "\n",
    "- 优点：可以帮助模型快速收敛。\n",
    "- 缺点：可能导致模型过拟合。\n",
    "\n",
    "**参数使用：**\n",
    "\n",
    "* 学习率 (`lr`): 推荐值为 0.01-0.1\n",
    "* 周期 (`step_size`): 推荐值为 10-50\n",
    "\n",
    "**使用案例：**\n",
    "\n",
    "> OneCycle Learning Rate 适用于需要快速收敛的模型和数据集。"
   ]
  },
  {
   "cell_type": "markdown",
   "metadata": {},
   "source": []
  }
 ],
 "metadata": {
  "kernelspec": {
   "display_name": "cv",
   "language": "python",
   "name": "python3"
  },
  "language_info": {
   "codemirror_mode": {
    "name": "ipython",
    "version": 3
   },
   "file_extension": ".py",
   "mimetype": "text/x-python",
   "name": "python",
   "nbconvert_exporter": "python",
   "pygments_lexer": "ipython3",
   "version": "3.10.14"
  }
 },
 "nbformat": 4,
 "nbformat_minor": 2
}
