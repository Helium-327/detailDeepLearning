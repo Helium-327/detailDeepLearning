{
 "cells": [
  {
   "cell_type": "markdown",
   "metadata": {},
   "source": [
    "# 膨胀卷积\n",
    "- 个人理解<sup>ruuner</sup>: 膨胀卷积可以扩大感受野，不会增加计算量。"
   ]
  },
  {
   "cell_type": "markdown",
   "metadata": {},
   "source": [
    "## 1. 膨胀卷积（空洞卷积）\n",
    "- 膨胀卷积（dilated convolution）是卷积核中存在空洞，膨胀卷积的卷积核大小为 $k \\times k$，空洞大小为 $d$，dilation rate为 $d$"
   ]
  },
  {
   "cell_type": "markdown",
   "metadata": {},
   "source": [
    "### 1.2 膨胀卷积和传统卷积工作机制的区别："
   ]
  },
  {
   "cell_type": "markdown",
   "metadata": {},
   "source": [
    "_N.B.: 灰色为卷积核，青色为输出特征图，蓝色为输入特征图._\n",
    "\n",
    "\n",
    "<table style=\"width:100%; table_layout:fixed;\">\n",
    "    <tr>\n",
    "        <td style=\"text-align: center;\"><img width=\"500px\" src=\"./gif/no_padding_strides.gif\"></td>\n",
    "        <td style=\"text-align: center;\"><img width=\"500px\" src=\"./gif/dilation.gif\"></td>\n",
    "    </tr>\n",
    "    <tr>\n",
    "        <td style=\"text-align: center;\"> 标准卷积 kernel_size=3×3, s=1 </td>\n",
    "        <td style=\"text-align: center;\"> 膨胀卷积 kernel_size=3×3, s=1, d=2</td>\n",
    "    </tr>\n",
    "</table>"
   ]
  },
  {
   "cell_type": "markdown",
   "metadata": {},
   "source": [
    "## 2. Gridding Effect"
   ]
  },
  {
   "cell_type": "markdown",
   "metadata": {},
   "source": [
    "<center>\n",
    "     <img width=\"1000px\" src=\"./assert/griding_effect.png\" />\n",
    "</center>\n",
    "<br>\n",
    "\n",
    "> source= https://arxiv.org/abs/1702.08502"
   ]
  },
  {
   "cell_type": "markdown",
   "metadata": {},
   "source": []
  },
  {
   "cell_type": "markdown",
   "metadata": {},
   "source": [
    "### 2.1 标准卷积\n",
    "> **注意感受野的变化**"
   ]
  },
  {
   "cell_type": "markdown",
   "metadata": {},
   "source": [
    "_N.B.: 注意每一层卷积后的感受野变化._\n",
    "\n",
    "\n",
    "<table style=\"width:100%; table_layout:fixed;\">\n",
    "    <tr>\n",
    "        <td style=\"text-align: center;\"><img width=\"200px\" src=\"./assert/conv_1.png\"></td>\n",
    "        <td style=\"text-align: center;\"><img width=\"200px\" src=\"./assert/conv_2.png\"></td>\n",
    "        <td style=\"text-align: center;\"><img width=\"200px\" src=\"./assert/conv_3.png\"></td>\n",
    "    </tr>\n",
    "    <tr>\n",
    "        <td style=\"text-align: center;\"> NO.1: k=3×3, s=1</td>\n",
    "        <td style=\"text-align: center;\"> NO.2: k=3×3, s=1</td>\n",
    "        <td style=\"text-align: center;\"> NO.3: k=3×3, s=1</td>\n",
    "    </tr>\n",
    "</table>"
   ]
  },
  {
   "cell_type": "markdown",
   "metadata": {},
   "source": [
    "## 2.2 膨胀卷积（d=2）"
   ]
  },
  {
   "cell_type": "markdown",
   "metadata": {},
   "source": [
    "_N.B.: 注意每一层卷积后的感受野变化._\n",
    "\n",
    "\n",
    "<table style=\"width:100%; table_layout:fixed;\">\n",
    "    <tr>\n",
    "        <td style=\"text-align: center;\"><img width=\"450px\" src=\"./assert/dilat_d2_1.png\"></td>\n",
    "        <td style=\"text-align: center;\"><img width=\"450px\" src=\"./assert/dilat_d2_2.png\"></td>\n",
    "        <td style=\"text-align: center;\"><img width=\"450px\" src=\"./assert/dilat_d2_3.png\"></td>\n",
    "    </tr>\n",
    "    <tr>\n",
    "        <td style=\"text-align: center;\"> NO.1: k=3×3, s=1，d=2</td>\n",
    "        <td style=\"text-align: center;\"> NO.2: k=3×3, s=1，d=2</td>\n",
    "        <td style=\"text-align: center;\"> NO.3: k=3×3, s=1，d=2</td>\n",
    "    </tr>\n",
    "</table>"
   ]
  },
  {
   "cell_type": "markdown",
   "metadata": {},
   "source": [
    "## 膨胀卷积（d=1 -> d=2 -> d=3）"
   ]
  },
  {
   "cell_type": "markdown",
   "metadata": {},
   "source": [
    "_N.B.: 注意每一层卷积后的感受野变化._\n",
    "\n",
    "\n",
    "<table style=\"width:100%; table_layout:fixed;\">\n",
    "    <tr>\n",
    "        <td style=\"text-align: center;\"><img width=\"450px\" src=\"./assert/dilat_d1.png\"></td>\n",
    "        <td style=\"text-align: center;\"><img width=\"450px\" src=\"./assert/dilat_d2.png\"></td>\n",
    "        <td style=\"text-align: center;\"><img width=\"450px\" src=\"./assert/dilat_d3.png\"></td>\n",
    "    </tr>\n",
    "    <tr>\n",
    "        <td style=\"text-align: center;\"> NO.1: k=3×3, s=1, d=1</td>\n",
    "        <td style=\"text-align: center;\"> NO.2: k=3×3, s=1, d=2</td>\n",
    "        <td style=\"text-align: center;\"> NO.3: k=3×3, s=1, d=3</td>\n",
    "    </tr>\n",
    "</table>"
   ]
  },
  {
   "cell_type": "markdown",
   "metadata": {},
   "source": [
    "## 3. 膨胀因子设定"
   ]
  },
  {
   "cell_type": "markdown",
   "metadata": {},
   "source": [
    "<table style=\"width:100%; table_layout:fixed;\">\n",
    "    <tr>\n",
    "        <td style=\"text-align: center;\"><img width=\"600px\" src=\"./assert/setting.png\"></td>\n",
    "        <td style=\"text-align: center;\"><img width=\"600px\" src=\"./assert/setting_2.png\"></td>\n",
    "    </tr>\n",
    "    <tr>\n",
    "        <td style=\"text-align: center;\"> 锯齿状大小分布规律 </td>\n",
    "        <td style=\"text-align: center;\"> d 的公约数不能大于 1 ；否则会出现 0 。</td>\n",
    "    </tr>\n",
    "</table>\n",
    "<br>\n",
    "\n",
    "> source= https://arxiv.org/abs/1702.08502"
   ]
  },
  {
   "cell_type": "markdown",
   "metadata": {},
   "source": []
  },
  {
   "cell_type": "markdown",
   "metadata": {},
   "source": []
  }
 ],
 "metadata": {
  "language_info": {
   "name": "python"
  }
 },
 "nbformat": 4,
 "nbformat_minor": 2
}
