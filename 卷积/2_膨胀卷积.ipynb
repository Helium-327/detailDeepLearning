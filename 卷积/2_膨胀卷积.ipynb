{
 "cells": [
  {
   "cell_type": "markdown",
   "metadata": {},
   "source": [
    "# 膨胀卷积\n",
    "- 个人理解<sup>ruuner</sup>: 膨胀卷积可以扩大感受野，不会增加计算量。"
   ]
  },
  {
   "cell_type": "markdown",
   "metadata": {},
   "source": [
    "## 1. 膨胀卷积（空洞卷积）\n",
    "- 膨胀卷积（dilated convolution）是卷积核中存在空洞，膨胀卷积的卷积核大小为 $k \\times k$，空洞大小为 $d$，dilation rate为 $d$"
   ]
  },
  {
   "cell_type": "markdown",
   "metadata": {},
   "source": [
    "### 1.2 膨胀卷积和传统卷积工作机制的区别："
   ]
  },
  {
   "cell_type": "markdown",
   "metadata": {},
   "source": [
    "_N.B.: 灰色为卷积核，青色为输出特征图，蓝色为输入特征图._\n",
    "\n",
    "\n",
    "<table style=\"width:100%; table_layout:fixed;\">\n",
    "    <tr>\n",
    "        <td style=\"text-align: center;\"><img width=\"500px\" src=\"./gif/no_padding_strides.gif\"></td>\n",
    "        <td style=\"text-align: center;\"><img width=\"500px\" src=\"./gif/dilation.gif\"></td>\n",
    "    </tr>\n",
    "    <tr>\n",
    "        <td style=\"text-align: center;\"> 标准卷积 kernel_size=3×3, s=1 </td>\n",
    "        <td style=\"text-align: center;\"> 膨胀卷积 kernel_size=3×3, s=1, d=2</td>\n",
    "    </tr>\n",
    "</table>"
   ]
  },
  {
   "cell_type": "markdown",
   "metadata": {},
   "source": [
    "## 2. Gridding Effect"
   ]
  },
  {
   "cell_type": "markdown",
   "metadata": {},
   "source": [
    "<center>\n",
    "     <img width=\"1000px\" src=\"./assert/griding_effect.png\" />\n",
    "</center>\n",
    "<br>\n",
    "\n",
    "> source= https://arxiv.org/abs/1702.08502"
   ]
  },
  {
   "cell_type": "markdown",
   "metadata": {},
   "source": []
  },
  {
   "cell_type": "markdown",
   "metadata": {},
   "source": [
    "### 2.1 标准卷积\n",
    "> **注意感受野的变化**"
   ]
  },
  {
   "cell_type": "markdown",
   "metadata": {},
   "source": [
    "_N.B.: 注意每一层卷积后的感受野变化._\n",
    "\n",
    "\n",
    "<table style=\"width:100%; table_layout:fixed;\">\n",
    "    <tr>\n",
    "        <td style=\"text-align: center;\"><img width=\"200px\" src=\"./assert/conv_1.png\"></td>\n",
    "        <td style=\"text-align: center;\"><img width=\"200px\" src=\"./assert/conv_2.png\"></td>\n",
    "        <td style=\"text-align: center;\"><img width=\"200px\" src=\"./assert/conv_3.png\"></td>\n",
    "    </tr>\n",
    "    <tr>\n",
    "        <td style=\"text-align: center;\"> NO.1: k=3×3, s=1</td>\n",
    "        <td style=\"text-align: center;\"> NO.2: k=3×3, s=1</td>\n",
    "        <td style=\"text-align: center;\"> NO.3: k=3×3, s=1</td>\n",
    "    </tr>\n",
    "</table>"
   ]
  },
  {
   "cell_type": "markdown",
   "metadata": {},
   "source": [
    "## 2.2 膨胀卷积（d=2）"
   ]
  },
  {
   "cell_type": "markdown",
   "metadata": {},
   "source": [
    "_N.B.: 注意每一层卷积后的感受野变化._\n",
    "\n",
    "\n",
    "<table style=\"width:100%; table_layout:fixed;\">\n",
    "    <tr>\n",
    "        <td style=\"text-align: center;\"><img width=\"450px\" src=\"./assert/dilat_d2_1.png\"></td>\n",
    "        <td style=\"text-align: center;\"><img width=\"450px\" src=\"./assert/dilat_d2_2.png\"></td>\n",
    "        <td style=\"text-align: center;\"><img width=\"450px\" src=\"./assert/dilat_d2_3.png\"></td>\n",
    "    </tr>\n",
    "    <tr>\n",
    "        <td style=\"text-align: center;\"> NO.1: k=3×3, s=1，d=2</td>\n",
    "        <td style=\"text-align: center;\"> NO.2: k=3×3, s=1，d=2</td>\n",
    "        <td style=\"text-align: center;\"> NO.3: k=3×3, s=1，d=2</td>\n",
    "    </tr>\n",
    "</table>"
   ]
  },
  {
   "cell_type": "markdown",
   "metadata": {},
   "source": [
    "## 膨胀卷积（d=1 -> d=2 -> d=3）"
   ]
  },
  {
   "cell_type": "markdown",
   "metadata": {},
   "source": [
    "_N.B.: 注意每一层卷积后的感受野变化._\n",
    "\n",
    "\n",
    "<table style=\"width:100%; table_layout:fixed;\">\n",
    "    <tr>\n",
    "        <td style=\"text-align: center;\"><img width=\"450px\" src=\"./assert/dilat_d1.png\"></td>\n",
    "        <td style=\"text-align: center;\"><img width=\"450px\" src=\"./assert/dilat_d2.png\"></td>\n",
    "        <td style=\"text-align: center;\"><img width=\"450px\" src=\"./assert/dilat_d3.png\"></td>\n",
    "    </tr>\n",
    "    <tr>\n",
    "        <td style=\"text-align: center;\"> NO.1: k=3×3, s=1, d=1</td>\n",
    "        <td style=\"text-align: center;\"> NO.2: k=3×3, s=1, d=2</td>\n",
    "        <td style=\"text-align: center;\"> NO.3: k=3×3, s=1, d=3</td>\n",
    "    </tr>\n",
    "</table>"
   ]
  },
  {
   "cell_type": "markdown",
   "metadata": {},
   "source": [
    "## 3. 膨胀因子设定"
   ]
  },
  {
   "cell_type": "markdown",
   "metadata": {},
   "source": [
    "<table style=\"width:100%; table_layout:fixed;\">\n",
    "    <tr>\n",
    "        <td style=\"text-align: center;\"><img width=\"600px\" src=\"./assert/setting.png\"></td>\n",
    "        <td style=\"text-align: center;\"><img width=\"600px\" src=\"./assert/setting_2.png\"></td>\n",
    "    </tr>\n",
    "    <tr>\n",
    "        <td style=\"text-align: center;\"> 锯齿状大小分布规律 </td>\n",
    "        <td style=\"text-align: center;\"> d 的公约数不能大于 1 ；否则会出现 0 。</td>\n",
    "    </tr>\n",
    "</table>\n",
    "<br>\n",
    "\n",
    "> source= https://arxiv.org/abs/1702.08502"
   ]
  },
  {
   "cell_type": "markdown",
   "metadata": {},
   "source": [
    "## 4. 膨胀卷积的可视化"
   ]
  },
  {
   "cell_type": "code",
   "execution_count": 3,
   "metadata": {},
   "outputs": [],
   "source": [
    "import numpy as np\n",
    "import matplotlib.pyplot as plt\n",
    "from matplotlib.colors import LinearSegmentedColormap\n",
    "\n",
    "\n",
    "def dilated_conv_one_pixel(center: (int, int),\n",
    "                           feature_map: np.ndarray,\n",
    "                           k: int = 3,\n",
    "                           r: int = 1,\n",
    "                           v: int = 1):\n",
    "    \"\"\"\n",
    "    膨胀卷积核中心在指定坐标center处时，统计哪些像素被利用到，\n",
    "    并在利用到的像素位置处加上增量v\n",
    "    Args:\n",
    "        center: 膨胀卷积核中心的坐标\n",
    "        feature_map: 记录每个像素使用次数的特征图\n",
    "        k: 膨胀卷积核的kernel大小\n",
    "        r: 膨胀卷积的dilation rate\n",
    "        v: 使用次数增量\n",
    "    \"\"\"\n",
    "    assert divmod(3, 2)[1] == 1\n",
    "\n",
    "    # left-top: (x, y)\n",
    "    left_top = (center[0] - ((k - 1) // 2) * r, center[1] - ((k - 1) // 2) * r)\n",
    "    for i in range(k):\n",
    "        for j in range(k):\n",
    "            feature_map[left_top[1] + i * r][left_top[0] + j * r] += v\n",
    "\n",
    "\n",
    "def dilated_conv_all_map(dilated_map: np.ndarray,\n",
    "                         k: int = 3,\n",
    "                         r: int = 1):\n",
    "    \"\"\"\n",
    "    根据输出特征矩阵中哪些像素被使用以及使用次数，\n",
    "    配合膨胀卷积k和r计算输入特征矩阵哪些像素被使用以及使用次数\n",
    "    Args:\n",
    "        dilated_map: 记录输出特征矩阵中每个像素被使用次数的特征图\n",
    "        k: 膨胀卷积核的kernel大小\n",
    "        r: 膨胀卷积的dilation rate\n",
    "    \"\"\"\n",
    "    new_map = np.zeros_like(dilated_map)\n",
    "    for i in range(dilated_map.shape[0]):\n",
    "        for j in range(dilated_map.shape[1]):\n",
    "            if dilated_map[i][j] > 0:\n",
    "                dilated_conv_one_pixel((j, i), new_map, k=k, r=r, v=dilated_map[i][j])\n",
    "\n",
    "    return new_map\n",
    "\n",
    "\n",
    "def plot_map(matrix: np.ndarray):\n",
    "    plt.figure()\n",
    "\n",
    "    c_list = ['white', 'blue', 'red']\n",
    "    new_cmp = LinearSegmentedColormap.from_list('chaos', c_list)\n",
    "    plt.imshow(matrix, cmap=new_cmp)\n",
    "\n",
    "    ax = plt.gca()\n",
    "    ax.set_xticks(np.arange(-0.5, matrix.shape[1], 1), minor=True)\n",
    "    ax.set_yticks(np.arange(-0.5, matrix.shape[0], 1), minor=True)\n",
    "\n",
    "    # 显示color bar\n",
    "    plt.colorbar()\n",
    "\n",
    "    # 在图中标注数量\n",
    "    thresh = 5\n",
    "    for x in range(matrix.shape[1]):\n",
    "        for y in range(matrix.shape[0]):\n",
    "            # 注意这里的matrix[y, x]不是matrix[x, y]\n",
    "            info = int(matrix[y, x])\n",
    "            ax.text(x, y, info,\n",
    "                    verticalalignment='center',\n",
    "                    horizontalalignment='center',\n",
    "                    color=\"white\" if info > thresh else \"black\")\n",
    "    ax.grid(which='minor', color='black', linestyle='-', linewidth=1.5)\n",
    "    plt.show()\n",
    "    plt.close()\n",
    "\n",
    "\n",
    "def main(dilated_rates):\n",
    "    # bottom to top\n",
    "    dilated_rates = dilated_rates\n",
    "    # init feature map\n",
    "    size = 31\n",
    "    m = np.zeros(shape=(size, size), dtype=np.int32)\n",
    "    center = size // 2\n",
    "    m[center][center] = 1\n",
    "    # print(m)\n",
    "    # plot_map(m)\n",
    "\n",
    "    for index, dilated_r in enumerate(dilated_rates[::-1]):\n",
    "        new_map = dilated_conv_all_map(m, r=dilated_r)\n",
    "        m = new_map\n",
    "    # print(m)\n",
    "    plot_map(m)\n"
   ]
  },
  {
   "cell_type": "code",
   "execution_count": 4,
   "metadata": {},
   "outputs": [
    {
     "data": {
      "image/png": "[encoded data removed]",
      "text/plain": [
       "<Figure size 640x480 with 2 Axes>"
      ]
     },
     "metadata": {},
     "output_type": "display_data"
    }
   ],
   "source": [
    "main([1, 2, 3])"
   ]
  },
  {
   "cell_type": "code",
   "execution_count": null,
   "metadata": {},
   "outputs": [],
   "source": []
  }
 ],
 "metadata": {
  "kernelspec": {
   "display_name": "cv",
   "language": "python",
   "name": "python3"
  },
  "language_info": {
   "codemirror_mode": {
    "name": "ipython",
    "version": 3
   },
   "file_extension": ".py",
   "mimetype": "text/x-python",
   "name": "python",
   "nbconvert_exporter": "python",
   "pygments_lexer": "ipython3",
   "version": "3.10.14"
  }
 },
 "nbformat": 4,
 "nbformat_minor": 2
}
